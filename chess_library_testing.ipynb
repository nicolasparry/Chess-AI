{
    "cells": [
        {
            "cell_type": "code",
            "execution_count": 21,
            "source": [
                "import numpy as np\r\n",
                "import math\r\n",
                "import chess\r\n",
                "import chess.svg\r\n",
                "import random\r\n",
                "\r\n",
                "## TODO\r\n",
                "#after choosing a move from the legal moves (of the form like e4e6), how do you convert this into the form required for push_san?. alternatively, are there other ways to push?\r\n",
                "\r\n",
                "### helper function ###\r\n",
                "def pass_control(control):\r\n",
                "    #pass control to the other player at the end of each turn\r\n",
                "    if control == 1:\r\n",
                "        return 2\r\n",
                "    elif control == 2:\r\n",
                "        return 1\r\n",
                "    else: \r\n",
                "        print(\"ERROR: CONTROL SHOULD BELONG TO PLAYER 1 OR 2\")\r\n",
                "        return 0\r\n",
                "    \r\n",
                "### end helper function ###\r\n",
                "\r\n",
                "\r\n",
                "#initialise the board\r\n",
                "board = chess.Board()\r\n",
                "board.legal_moves #prints legal moves, use this to iterate through legal moves\r\n",
                "print(board)\r\n",
                "print(\"_______________\")\r\n",
                "\r\n",
                "#initialise whose turn it is, player 1 is the human player\r\n",
                "control = 1\r\n",
                "\r\n",
                "#play the game, prompting user for moves\r\n",
                "while not board.is_checkmate():\r\n",
                "   \r\n",
                "    #if it is the human player's turn, prompt for input\r\n",
                "    if control == 1:      \r\n",
                "        move = input(\"Enter move in algebraic notation: \")\r\n",
                "        board.push_san(move)\r\n",
                "    \r\n",
                "    #if it is the AI's turn, call the ai to select its move\r\n",
                "    elif control == 2:\r\n",
                "        #for now, choose a completely random move\r\n",
                "        move_options = list(board.legal_moves) #prints legal moves, can use this in the ai to iterate through legal moves\r\n",
                "        choice = random.choice(move_options)\r\n",
                "        board.push_san(choice)\r\n",
                "    \r\n",
                "    \r\n",
                "    #display the move\r\n",
                "    print(board)\r\n",
                "    print(\"_______________\")\r\n",
                "\r\n",
                "    #switch whose turn it is\r\n",
                "    control = pass_control(control)\r\n",
                "\r\n"
            ],
            "outputs": [
                {
                    "output_type": "stream",
                    "name": "stdout",
                    "text": [
                        "r n b q k b n r\n",
                        "p p p p p p p p\n",
                        ". . . . . . . .\n",
                        ". . . . . . . .\n",
                        ". . . . . . . .\n",
                        ". . . . . . . .\n",
                        "P P P P P P P P\n",
                        "R N B Q K B N R\n",
                        "_______________\n",
                        "r n b q k b n r\n",
                        "p p p p p p p p\n",
                        ". . . . . . . .\n",
                        ". . . . . . . .\n",
                        ". . . . P . . .\n",
                        ". . . . . . . .\n",
                        "P P P P . P P P\n",
                        "R N B Q K B N R\n",
                        "_______________\n"
                    ]
                },
                {
                    "output_type": "error",
                    "ename": "TypeError",
                    "evalue": "object of type 'Move' has no len()",
                    "traceback": [
                        "\u001b[1;31m---------------------------------------------------------------------------\u001b[0m",
                        "\u001b[1;31mTypeError\u001b[0m                                 Traceback (most recent call last)",
                        "\u001b[1;32m~\\AppData\\Local\\Temp/ipykernel_19244/3252458075.py\u001b[0m in \u001b[0;36m<module>\u001b[1;34m\u001b[0m\n\u001b[0;32m     41\u001b[0m         \u001b[0mmove_options\u001b[0m \u001b[1;33m=\u001b[0m \u001b[0mlist\u001b[0m\u001b[1;33m(\u001b[0m\u001b[0mboard\u001b[0m\u001b[1;33m.\u001b[0m\u001b[0mlegal_moves\u001b[0m\u001b[1;33m)\u001b[0m \u001b[1;31m#prints legal moves, can use this in the ai to iterate through legal moves\u001b[0m\u001b[1;33m\u001b[0m\u001b[1;33m\u001b[0m\u001b[0m\n\u001b[0;32m     42\u001b[0m         \u001b[0mchoice\u001b[0m \u001b[1;33m=\u001b[0m \u001b[0mrandom\u001b[0m\u001b[1;33m.\u001b[0m\u001b[0mchoice\u001b[0m\u001b[1;33m(\u001b[0m\u001b[0mmove_options\u001b[0m\u001b[1;33m)\u001b[0m\u001b[1;33m\u001b[0m\u001b[1;33m\u001b[0m\u001b[0m\n\u001b[1;32m---> 43\u001b[1;33m         \u001b[0mboard\u001b[0m\u001b[1;33m.\u001b[0m\u001b[0mpush_uci\u001b[0m\u001b[1;33m(\u001b[0m\u001b[0mchoice\u001b[0m\u001b[1;33m)\u001b[0m\u001b[1;33m\u001b[0m\u001b[1;33m\u001b[0m\u001b[0m\n\u001b[0m\u001b[0;32m     44\u001b[0m \u001b[1;33m\u001b[0m\u001b[0m\n\u001b[0;32m     45\u001b[0m \u001b[1;33m\u001b[0m\u001b[0m\n",
                        "\u001b[1;32m~\\AppData\\Local\\Packages\\PythonSoftwareFoundation.Python.3.9_qbz5n2kfra8p0\\LocalCache\\local-packages\\Python39\\site-packages\\chess\\__init__.py\u001b[0m in \u001b[0;36mpush_uci\u001b[1;34m(self, uci)\u001b[0m\n\u001b[0;32m   3077\u001b[0m             \u001b[0mcurrent\u001b[0m \u001b[0mposition\u001b[0m \u001b[1;33m(\u001b[0m\u001b[0mbut\u001b[0m \u001b[1;32mnot\u001b[0m \u001b[0ma\u001b[0m \u001b[0mnull\u001b[0m \u001b[0mmove\u001b[0m\u001b[1;33m)\u001b[0m\u001b[1;33m.\u001b[0m\u001b[1;33m\u001b[0m\u001b[1;33m\u001b[0m\u001b[0m\n\u001b[0;32m   3078\u001b[0m         \"\"\"\n\u001b[1;32m-> 3079\u001b[1;33m         \u001b[0mmove\u001b[0m \u001b[1;33m=\u001b[0m \u001b[0mself\u001b[0m\u001b[1;33m.\u001b[0m\u001b[0mparse_uci\u001b[0m\u001b[1;33m(\u001b[0m\u001b[0muci\u001b[0m\u001b[1;33m)\u001b[0m\u001b[1;33m\u001b[0m\u001b[1;33m\u001b[0m\u001b[0m\n\u001b[0m\u001b[0;32m   3080\u001b[0m         \u001b[0mself\u001b[0m\u001b[1;33m.\u001b[0m\u001b[0mpush\u001b[0m\u001b[1;33m(\u001b[0m\u001b[0mmove\u001b[0m\u001b[1;33m)\u001b[0m\u001b[1;33m\u001b[0m\u001b[1;33m\u001b[0m\u001b[0m\n\u001b[0;32m   3081\u001b[0m         \u001b[1;32mreturn\u001b[0m \u001b[0mmove\u001b[0m\u001b[1;33m\u001b[0m\u001b[1;33m\u001b[0m\u001b[0m\n",
                        "\u001b[1;32m~\\AppData\\Local\\Packages\\PythonSoftwareFoundation.Python.3.9_qbz5n2kfra8p0\\LocalCache\\local-packages\\Python39\\site-packages\\chess\\__init__.py\u001b[0m in \u001b[0;36mparse_uci\u001b[1;34m(self, uci)\u001b[0m\n\u001b[0;32m   3055\u001b[0m             \u001b[0mcurrent\u001b[0m \u001b[0mposition\u001b[0m \u001b[1;33m(\u001b[0m\u001b[0mbut\u001b[0m \u001b[1;32mnot\u001b[0m \u001b[0ma\u001b[0m \u001b[0mnull\u001b[0m \u001b[0mmove\u001b[0m\u001b[1;33m)\u001b[0m\u001b[1;33m.\u001b[0m\u001b[1;33m\u001b[0m\u001b[1;33m\u001b[0m\u001b[0m\n\u001b[0;32m   3056\u001b[0m         \"\"\"\n\u001b[1;32m-> 3057\u001b[1;33m         \u001b[0mmove\u001b[0m \u001b[1;33m=\u001b[0m \u001b[0mMove\u001b[0m\u001b[1;33m.\u001b[0m\u001b[0mfrom_uci\u001b[0m\u001b[1;33m(\u001b[0m\u001b[0muci\u001b[0m\u001b[1;33m)\u001b[0m\u001b[1;33m\u001b[0m\u001b[1;33m\u001b[0m\u001b[0m\n\u001b[0m\u001b[0;32m   3058\u001b[0m \u001b[1;33m\u001b[0m\u001b[0m\n\u001b[0;32m   3059\u001b[0m         \u001b[1;32mif\u001b[0m \u001b[1;32mnot\u001b[0m \u001b[0mmove\u001b[0m\u001b[1;33m:\u001b[0m\u001b[1;33m\u001b[0m\u001b[1;33m\u001b[0m\u001b[0m\n",
                        "\u001b[1;32m~\\AppData\\Local\\Packages\\PythonSoftwareFoundation.Python.3.9_qbz5n2kfra8p0\\LocalCache\\local-packages\\Python39\\site-packages\\chess\\__init__.py\u001b[0m in \u001b[0;36mfrom_uci\u001b[1;34m(cls, uci)\u001b[0m\n\u001b[0;32m    556\u001b[0m         \u001b[1;32mif\u001b[0m \u001b[0muci\u001b[0m \u001b[1;33m==\u001b[0m \u001b[1;34m\"0000\"\u001b[0m\u001b[1;33m:\u001b[0m\u001b[1;33m\u001b[0m\u001b[1;33m\u001b[0m\u001b[0m\n\u001b[0;32m    557\u001b[0m             \u001b[1;32mreturn\u001b[0m \u001b[0mcls\u001b[0m\u001b[1;33m.\u001b[0m\u001b[0mnull\u001b[0m\u001b[1;33m(\u001b[0m\u001b[1;33m)\u001b[0m\u001b[1;33m\u001b[0m\u001b[1;33m\u001b[0m\u001b[0m\n\u001b[1;32m--> 558\u001b[1;33m         \u001b[1;32melif\u001b[0m \u001b[0mlen\u001b[0m\u001b[1;33m(\u001b[0m\u001b[0muci\u001b[0m\u001b[1;33m)\u001b[0m \u001b[1;33m==\u001b[0m \u001b[1;36m4\u001b[0m \u001b[1;32mand\u001b[0m \u001b[1;34m\"@\"\u001b[0m \u001b[1;33m==\u001b[0m \u001b[0muci\u001b[0m\u001b[1;33m[\u001b[0m\u001b[1;36m1\u001b[0m\u001b[1;33m]\u001b[0m\u001b[1;33m:\u001b[0m\u001b[1;33m\u001b[0m\u001b[1;33m\u001b[0m\u001b[0m\n\u001b[0m\u001b[0;32m    559\u001b[0m             \u001b[0mdrop\u001b[0m \u001b[1;33m=\u001b[0m \u001b[0mPIECE_SYMBOLS\u001b[0m\u001b[1;33m.\u001b[0m\u001b[0mindex\u001b[0m\u001b[1;33m(\u001b[0m\u001b[0muci\u001b[0m\u001b[1;33m[\u001b[0m\u001b[1;36m0\u001b[0m\u001b[1;33m]\u001b[0m\u001b[1;33m.\u001b[0m\u001b[0mlower\u001b[0m\u001b[1;33m(\u001b[0m\u001b[1;33m)\u001b[0m\u001b[1;33m)\u001b[0m\u001b[1;33m\u001b[0m\u001b[1;33m\u001b[0m\u001b[0m\n\u001b[0;32m    560\u001b[0m             \u001b[0msquare\u001b[0m \u001b[1;33m=\u001b[0m \u001b[0mSQUARE_NAMES\u001b[0m\u001b[1;33m.\u001b[0m\u001b[0mindex\u001b[0m\u001b[1;33m(\u001b[0m\u001b[0muci\u001b[0m\u001b[1;33m[\u001b[0m\u001b[1;36m2\u001b[0m\u001b[1;33m:\u001b[0m\u001b[1;33m]\u001b[0m\u001b[1;33m)\u001b[0m\u001b[1;33m\u001b[0m\u001b[1;33m\u001b[0m\u001b[0m\n",
                        "\u001b[1;31mTypeError\u001b[0m: object of type 'Move' has no len()"
                    ]
                }
            ],
            "metadata": {}
        },
        {
            "cell_type": "code",
            "execution_count": null,
            "source": [
                "\r\n"
            ],
            "outputs": [
                {
                    "output_type": "error",
                    "ename": "NameError",
                    "evalue": "name 'random' is not defined",
                    "traceback": [
                        "\u001b[1;31m---------------------------------------------------------------------------\u001b[0m",
                        "\u001b[1;31mNameError\u001b[0m                                 Traceback (most recent call last)",
                        "\u001b[1;32m~\\AppData\\Local\\Temp/ipykernel_19244/4262433885.py\u001b[0m in \u001b[0;36m<module>\u001b[1;34m\u001b[0m\n\u001b[0;32m      1\u001b[0m \u001b[0mboard\u001b[0m \u001b[1;33m=\u001b[0m \u001b[0mchess\u001b[0m\u001b[1;33m.\u001b[0m\u001b[0mBoard\u001b[0m\u001b[1;33m(\u001b[0m\u001b[1;33m)\u001b[0m\u001b[1;33m\u001b[0m\u001b[1;33m\u001b[0m\u001b[0m\n\u001b[0;32m      2\u001b[0m \u001b[0mmoves\u001b[0m \u001b[1;33m=\u001b[0m \u001b[0mlist\u001b[0m\u001b[1;33m(\u001b[0m\u001b[0mboard\u001b[0m\u001b[1;33m.\u001b[0m\u001b[0mlegal_moves\u001b[0m\u001b[1;33m)\u001b[0m \u001b[1;31m#prints legal moves, use this to iterate through legal moves\u001b[0m\u001b[1;33m\u001b[0m\u001b[1;33m\u001b[0m\u001b[0m\n\u001b[1;32m----> 3\u001b[1;33m \u001b[0mprint\u001b[0m\u001b[1;33m(\u001b[0m\u001b[0mrandom\u001b[0m\u001b[1;33m.\u001b[0m\u001b[0mchoice\u001b[0m\u001b[1;33m(\u001b[0m\u001b[0mmoves\u001b[0m\u001b[1;33m)\u001b[0m\u001b[1;33m)\u001b[0m\u001b[1;33m\u001b[0m\u001b[1;33m\u001b[0m\u001b[0m\n\u001b[0m",
                        "\u001b[1;31mNameError\u001b[0m: name 'random' is not defined"
                    ]
                }
            ],
            "metadata": {}
        },
        {
            "cell_type": "code",
            "execution_count": null,
            "source": [],
            "outputs": [],
            "metadata": {}
        },
        {
            "cell_type": "code",
            "execution_count": null,
            "source": [],
            "outputs": [],
            "metadata": {}
        },
        {
            "cell_type": "code",
            "execution_count": null,
            "source": [],
            "outputs": [],
            "metadata": {}
        }
    ],
    "metadata": {
        "orig_nbformat": 4,
        "language_info": {
            "name": "python",
            "version": "3.9.6",
            "mimetype": "text/x-python",
            "codemirror_mode": {
                "name": "ipython",
                "version": 3
            },
            "pygments_lexer": "ipython3",
            "nbconvert_exporter": "python",
            "file_extension": ".py"
        },
        "kernelspec": {
            "name": "python3",
            "display_name": "Python 3.9.6 64-bit (windows store)"
        },
        "interpreter": {
            "hash": "b81653a8e3e697e036840ebe688dd868219b8e94997e45b66f558416c178febd"
        }
    },
    "nbformat": 4,
    "nbformat_minor": 2
}